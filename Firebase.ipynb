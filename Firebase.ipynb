{
 "cells": [
  {
   "metadata": {},
   "cell_type": "markdown",
   "source": "#  APP INITIALIZATION",
   "id": "8a77807f92f26ee"
  },
  {
   "metadata": {
    "ExecuteTime": {
     "end_time": "2024-10-20T23:00:05.510508Z",
     "start_time": "2024-10-20T23:00:05.396770Z"
    }
   },
   "cell_type": "code",
   "source": [
    "from tkinter.messagebox import RETRY\n",
    "from xml.dom.expatbuilder import DOCUMENT_NODE\n",
    "\n",
    "#LIBRERIAS\n",
    "import firebase_admin\n",
    "from firebase_admin import auth #Authentication service\n",
    "from firebase_admin import storage #Storage service for User Profile pictures\n",
    "from firebase_admin import credentials\n",
    "from firebase_admin import firestore #NoSQL database\n",
    "\n",
    "# Use a service account.\n",
    "cred = credentials.Certificate('/home/aldo/PycharmProjects/scientificProject/ingebot-5c0de-firebase-adminsdk-46g76-1519602298.json')\n",
    "#App initialization with credentials for the project nad access to the bucket (Storage for images)\n",
    "app = firebase_admin.initialize_app(cred,{\n",
    "    'storageBucket': 'ingebot-5c0de.appspot.com' #Place where all images are located\n",
    "})\n",
    "\n",
    "db = firestore.client()"
   ],
   "id": "be93a78a6b6f4d9",
   "outputs": [],
   "execution_count": 4
  },
  {
   "metadata": {},
   "cell_type": "markdown",
   "source": [
    "## BUCKET REFERENCE \n",
    "This is where all profile pictures will be uploaded"
   ],
   "id": "b94b765ca82eb8a1"
  },
  {
   "metadata": {
    "ExecuteTime": {
     "end_time": "2024-10-20T22:59:51.731989Z",
     "start_time": "2024-10-20T22:59:51.728068Z"
    }
   },
   "cell_type": "code",
   "source": "firebase_admin.delete_app(app)",
   "id": "ee3b847e60f6a7f8",
   "outputs": [],
   "execution_count": 2
  },
  {
   "metadata": {
    "ExecuteTime": {
     "end_time": "2024-10-20T23:00:07.335360Z",
     "start_time": "2024-10-20T23:00:07.331238Z"
    }
   },
   "cell_type": "code",
   "source": "bucket = storage.bucket(app=app)",
   "id": "656f94676f791a6b",
   "outputs": [],
   "execution_count": 5
  },
  {
   "metadata": {},
   "cell_type": "markdown",
   "source": [
    "### CREATING NEW USERS\n",
    "The create_user function allows you to create a new user and upload its info into the following services\n",
    "- Authentication \n",
    "- Firestore \n",
    "- Storage (if image is uploaded)\n",
    "\n",
    "\n",
    "\n",
    "This function returns a dictionary with the following structure:\n",
    "        \n",
    "    user_data = {\n",
    "            'name': display_name,\n",
    "            'institution_email': institution_email,\n",
    "            'createdAt': firestore.SERVER_TIMESTAMP,  # Use Firestore's server timestamp\n",
    "            'control_number': control_number,\n",
    "            'photoUrl': image_url,  # Profile image URL\n",
    "            'uid': user.uid  # Store the UID for future reference\n",
    "        }   \n",
    "Note: If no image is provided, then the \"photoUrl\" attribute will be set to None\n",
    "\n",
    "\n"
   ],
   "id": "cfd666e3d5926034"
  },
  {
   "metadata": {
    "ExecuteTime": {
     "end_time": "2024-10-20T23:51:18.098835Z",
     "start_time": "2024-10-20T23:51:18.091188Z"
    }
   },
   "cell_type": "code",
   "source": [
    "\n",
    "\n",
    "def create_user(institution_email, password, display_name, control_number,image_path=None ):\n",
    "\n",
    "\n",
    "    try:\n",
    "        # Step 1: Create the user in Firebase Authentication\n",
    "        # Firebase Authentication only needs email and password, the other parameters are optional\n",
    "        user = auth.create_user(\n",
    "            email=institution_email,\n",
    "            email_verified=False,\n",
    "            password=password,\n",
    "            display_name=display_name,\n",
    "            disabled=False\n",
    "        )\n",
    "        print(f'Successfully created new user: {user.uid}')\n",
    "        \n",
    "        # Step 2: Upload profile picture if provided\n",
    "        if image_path:\n",
    "            image_url = upload_image_and_get_url(image_path, user.uid)\n",
    "            print(f'Profile image URL: {image_url}')\n",
    "        else:\n",
    "            image_url = None\n",
    "        \n",
    "        # Step 3: Store user data in Firestore\n",
    "        user_data = {\n",
    "            'name': display_name,\n",
    "            'institution_email': institution_email,\n",
    "            'createdAt': getCurrentTimestamp(),  # Use Firestore's server timestamp\n",
    "            'control_number': control_number,\n",
    "            'photoUrl': image_url,  # Profile image URL\n",
    "            'uid': user.uid  # Store the UID for future reference\n",
    "        }\n",
    "\n",
    "        # Step 4: Add the user document to Firestore\n",
    "        user_ref = db.collection('Users').document(user.uid)\n",
    "        user_ref.set(user_data)\n",
    "        return user\n",
    "        \n",
    "    except Exception as e:\n",
    "        print(f'Error creating user or adding to Firestore: {str(e)}')"
   ],
   "id": "4241444b32076a66",
   "outputs": [],
   "execution_count": 54
  },
  {
   "metadata": {},
   "cell_type": "markdown",
   "source": [
    "#### Upload image function\n",
    "The function upload_image_and_get_url allows you to upload images from your device, you only need to specify the user uid since the image will only be identified with this attribute"
   ],
   "id": "fc49de90af9675f6"
  },
  {
   "metadata": {
    "ExecuteTime": {
     "end_time": "2024-10-20T23:17:03.038756Z",
     "start_time": "2024-10-20T23:17:03.033366Z"
    }
   },
   "cell_type": "code",
   "source": [
    "def upload_image_and_get_url(image_path, user_uid):\n",
    "    \"\"\"Upload a profile image to Firebase Storage and return its URL.\"\"\"\n",
    "    try:\n",
    "        \n",
    "        # Create a blob (object) for the image in Storage\n",
    "        blob = bucket.blob(f'user_profile_pictures/{user_uid}/{image_path.split(\"/\")[-1]}')  # Storage path\n",
    "        blob.upload_from_filename(image_path)  # Upload the image file\n",
    "\n",
    "        # Make the blob publicly accessible (optional)\n",
    "        blob.make_public()\n",
    "\n",
    "        # Return the URL of the uploaded image\n",
    "        return blob.public_url\n",
    "    except Exception as e:\n",
    "        print(f'Error uploading image: {str(e)}')\n",
    "        return None\n"
   ],
   "id": "8afa508920c521e5",
   "outputs": [],
   "execution_count": 13
  },
  {
   "metadata": {},
   "cell_type": "markdown",
   "source": [
    "#### getCurrentTimestamp function\n",
    "This function allows you to obtain current a formatted timestamp "
   ],
   "id": "f1469cba17a18be3"
  },
  {
   "metadata": {
    "ExecuteTime": {
     "end_time": "2024-10-20T23:17:04.590805Z",
     "start_time": "2024-10-20T23:17:04.586825Z"
    }
   },
   "cell_type": "code",
   "source": [
    "\n",
    "def getCurrentTimestamp():\n",
    "    from datetime import datetime\n",
    "    current_timestamp = datetime.now()\n",
    "    formatted_timestamp = current_timestamp.strftime('%Y-%m-%d %H:%M:%S')\n",
    "    return formatted_timestamp\n",
    "    \n",
    "    "
   ],
   "id": "4aa6285c89344af5",
   "outputs": [],
   "execution_count": 14
  },
  {
   "metadata": {},
   "cell_type": "markdown",
   "source": "USER CREATION EXAMPLE\n",
   "id": "5618fe5b3f8b6e1f"
  },
  {
   "metadata": {
    "ExecuteTime": {
     "end_time": "2024-10-21T00:09:28.201703Z",
     "start_time": "2024-10-21T00:09:26.332709Z"
    }
   },
   "cell_type": "code",
   "source": [
    "user4 =create_user(\n",
    "    institution_email='7@example.com',\n",
    "    password='<PASSWORD>',\n",
    "    display_name='4',\n",
    "    control_number='22090747',\n",
    "    image_path= '/home/aldo/PycharmProjects/scientificProject/aldo.jpg'\n",
    ")"
   ],
   "id": "a1220d938aee377",
   "outputs": [
    {
     "name": "stdout",
     "output_type": "stream",
     "text": [
      "Successfully created new user: GGh07R3wtdets9UYiHmRTxuGHRJ3\n",
      "Profile image URL: https://storage.googleapis.com/ingebot-5c0de.appspot.com/user_profile_pictures/GGh07R3wtdets9UYiHmRTxuGHRJ3/aldo.jpg\n"
     ]
    }
   ],
   "execution_count": 78
  },
  {
   "metadata": {},
   "cell_type": "markdown",
   "source": "RETRIEVE USER DATA",
   "id": "df5a723ff351d092"
  },
  {
   "metadata": {
    "ExecuteTime": {
     "end_time": "2024-10-20T23:29:00.180502Z",
     "start_time": "2024-10-20T23:29:00.175117Z"
    }
   },
   "cell_type": "code",
   "source": [
    "userEmail = user4['institution_email']\n",
    "userUid = user4['photoUrl']\n",
    "userName = user4['name']\n",
    "print(f'User Name: {userName} \\n User UID: {userUid} \\n User Email: {userEmail}')"
   ],
   "id": "1828984535548d7",
   "outputs": [
    {
     "name": "stdout",
     "output_type": "stream",
     "text": [
      "User Name: 4 \n",
      " User UID: https://storage.googleapis.com/ingebot-5c0de.appspot.com/user_profile_pictures/8KMGTr1MfmdT13CLUQs3Gj2rvRE3/aldo.jpg \n",
      " User Email: 6@example.com\n"
     ]
    }
   ],
   "execution_count": 24
  },
  {
   "metadata": {},
   "cell_type": "markdown",
   "source": "## Creating Tasks",
   "id": "4c610271d0ca737d"
  },
  {
   "metadata": {
    "ExecuteTime": {
     "end_time": "2024-10-21T00:10:00.464740Z",
     "start_time": "2024-10-21T00:10:00.459910Z"
    }
   },
   "cell_type": "code",
   "source": [
    "def createTask(title, description, due_date, priority):\n",
    "    userUID= user4.uid\n",
    "    taskData={\n",
    "        'title': title,\n",
    "        'description': description,\n",
    "        'createdAt': getCurrentTimestamp(),  # Use Firestore's server timestamp\n",
    "        'due_date': due_date, #EXAMPLE ONLY , WE NEED TO CHANGE IT  \n",
    "        'priority':priority,\n",
    "    }\n",
    "    user_ref = db.collection('Users').document(userUID)\n",
    "   \n",
    "    new_task_ref = user_ref.collection('Tasks').document(title)  \n",
    "\n",
    "    # Set the task data in Firestore\n",
    "    new_task_ref.set(taskData)\n",
    "    \n",
    "\n",
    "    \n",
    " \n",
    " \n",
    " "
   ],
   "id": "fa8f548a8829cdf3",
   "outputs": [],
   "execution_count": 80
  },
  {
   "metadata": {
    "ExecuteTime": {
     "end_time": "2024-10-21T01:08:22.262414Z",
     "start_time": "2024-10-21T01:08:08.091673Z"
    }
   },
   "cell_type": "code",
   "source": [
    "createTask(\n",
    "    title='almorzar',\n",
    "    description='This is a test task',\n",
    "    due_date=\"2024-01-19\",\n",
    "    priority='HIGH'\n",
    ")"
   ],
   "id": "3f295b475a481b7a",
   "outputs": [],
   "execution_count": 162
  },
  {
   "metadata": {},
   "cell_type": "markdown",
   "source": "### Creating subtasks",
   "id": "96269fa6840c36cf"
  },
  {
   "metadata": {
    "ExecuteTime": {
     "end_time": "2024-10-21T00:21:23.033520Z",
     "start_time": "2024-10-21T00:21:23.028724Z"
    }
   },
   "cell_type": "code",
   "source": [
    "def createSubtask(taskTitle, subtaskTitle, description):\n",
    "    userUID= user4.uid \n",
    "    subaskData={\n",
    "        'subtaskTitle': subtaskTitle,\n",
    "        'description': description,\n",
    "        'createdAt': getCurrentTimestamp(),  # Use Firestore's server timestamp\n",
    "    }\n",
    "    task_ref = db.collection('Users').document(userUID).collection('Tasks')\n",
    "    task_ref.document(taskTitle).collection('Subtasks').document(subtaskTitle).set(subaskData)\n",
    "    "
   ],
   "id": "9b5ab2d8c90abc6d",
   "outputs": [],
   "execution_count": 104
  },
  {
   "metadata": {
    "ExecuteTime": {
     "end_time": "2024-10-21T01:10:10.023326Z",
     "start_time": "2024-10-21T01:10:09.884339Z"
    }
   },
   "cell_type": "code",
   "source": [
    "createSubtask(\n",
    "    taskTitle='almorzar',\n",
    "    subtaskTitle='Ir al baño',\n",
    "    description='This is a test subtask',\n",
    ")"
   ],
   "id": "a33dcb3ad63c9723",
   "outputs": [],
   "execution_count": 164
  },
  {
   "metadata": {},
   "cell_type": "markdown",
   "source": "## READING DATA",
   "id": "d1e29dadba248766"
  },
  {
   "metadata": {},
   "cell_type": "markdown",
   "source": [
    "### User data\n",
    "The following sentences retrieves the user's information in dictionary, not that it does not retrieve the user's subcollections (\"Tasks\")"
   ],
   "id": "9b111fb433e7b24f"
  },
  {
   "metadata": {},
   "cell_type": "markdown",
   "source": "- User document without subcollection \"Tasks\"\n",
   "id": "f9f82ef8a5cfa6ea"
  },
  {
   "metadata": {
    "ExecuteTime": {
     "end_time": "2024-10-21T02:44:21.908064Z",
     "start_time": "2024-10-21T02:44:21.303199Z"
    }
   },
   "cell_type": "code",
   "source": "db.collection(\"Users\").document(user4.uid).get().to_dict()\n",
   "id": "8ede6b895441d01e",
   "outputs": [
    {
     "data": {
      "text/plain": [
       "{'name': '4',\n",
       " 'uid': 'GGh07R3wtdets9UYiHmRTxuGHRJ3',\n",
       " 'photoUrl': 'https://storage.googleapis.com/ingebot-5c0de.appspot.com/user_profile_pictures/GGh07R3wtdets9UYiHmRTxuGHRJ3/aldo.jpg',\n",
       " 'createdAt': '2024-10-20 18:09:27',\n",
       " 'institution_email': '7@example.com',\n",
       " 'control_number': '22090747'}"
      ]
     },
     "execution_count": 175,
     "metadata": {},
     "output_type": "execute_result"
    }
   ],
   "execution_count": 175
  },
  {
   "metadata": {},
   "cell_type": "markdown",
   "source": "### User Tasks",
   "id": "fb30374e17439d15"
  },
  {
   "metadata": {},
   "cell_type": "markdown",
   "source": "- Subcollections of a user",
   "id": "794039f685eb131a"
  },
  {
   "metadata": {
    "ExecuteTime": {
     "end_time": "2024-10-21T00:45:39.541520Z",
     "start_time": "2024-10-21T00:45:39.421947Z"
    }
   },
   "cell_type": "code",
   "outputs": [
    {
     "name": "stdout",
     "output_type": "stream",
     "text": [
      "Subcollection: Tasks\n"
     ]
    }
   ],
   "execution_count": 149,
   "source": [
    "subcollections = db.collection(\"Users\").document(user4.uid).collections()\n",
    "for subcollection in subcollections:\n",
    "    print(f'Subcollection: {subcollection.id}')"
   ],
   "id": "423610c73719b82e"
  },
  {
   "metadata": {},
   "cell_type": "markdown",
   "source": "",
   "id": "7d327602634687ab"
  },
  {
   "metadata": {
    "ExecuteTime": {
     "end_time": "2024-10-21T00:11:10.657801Z",
     "start_time": "2024-10-21T00:11:10.556271Z"
    }
   },
   "cell_type": "code",
   "outputs": [
    {
     "data": {
      "text/plain": [
       "{'title': 'desayunar',\n",
       " 'due_date': '2024-01-19',\n",
       " 'description': 'This is a test task',\n",
       " 'createdAt': '2024-10-20 18:10:03',\n",
       " 'priority': 'HIGH'}"
      ]
     },
     "execution_count": 88,
     "metadata": {},
     "output_type": "execute_result"
    }
   ],
   "execution_count": 88,
   "source": "db.collection(\"Users\").document(user4.uid).collection(\"Tasks\").document(\"desayunar\").get().to_dict()",
   "id": "153c3616c7f9d3df"
  },
  {
   "metadata": {},
   "cell_type": "markdown",
   "source": "- Subcollections of a task",
   "id": "1e511bf25d620942"
  },
  {
   "metadata": {
    "ExecuteTime": {
     "end_time": "2024-10-21T00:47:20.499477Z",
     "start_time": "2024-10-21T00:47:20.355382Z"
    }
   },
   "cell_type": "code",
   "source": [
    "subcollectionst = db.collection(\"Users\").document(user4.uid).collection(\"Tasks\").document(\"desayunar\").collections()\n",
    "for subcollection in subcollectionst:\n",
    "    print(f'Subcollection: {subcollection.id}')\n"
   ],
   "id": "5223a49e06fb42b5",
   "outputs": [
    {
     "name": "stdout",
     "output_type": "stream",
     "text": [
      "Subcollection: Subtasks\n"
     ]
    }
   ],
   "execution_count": 150
  },
  {
   "metadata": {},
   "cell_type": "markdown",
   "source": "### Collection Users",
   "id": "5da07b56b1e58cd6"
  },
  {
   "metadata": {
    "ExecuteTime": {
     "end_time": "2024-10-21T00:15:42.256413Z",
     "start_time": "2024-10-21T00:15:41.832385Z"
    }
   },
   "cell_type": "code",
   "source": [
    "docs = db.collection(\"Users\").stream()\n",
    "for doc in docs:\n",
    "    print(f'Document ID: {doc.id}, Data: {doc.to_dict()}')"
   ],
   "id": "e09ad208b2befeef",
   "outputs": [
    {
     "name": "stdout",
     "output_type": "stream",
     "text": [
      "Document ID: GGh07R3wtdets9UYiHmRTxuGHRJ3, Data: {'name': '4', 'uid': 'GGh07R3wtdets9UYiHmRTxuGHRJ3', 'photoUrl': 'https://storage.googleapis.com/ingebot-5c0de.appspot.com/user_profile_pictures/GGh07R3wtdets9UYiHmRTxuGHRJ3/aldo.jpg', 'createdAt': '2024-10-20 18:09:27', 'institution_email': '7@example.com', 'control_number': '22090747'}\n"
     ]
    }
   ],
   "execution_count": 91
  },
  {
   "metadata": {},
   "cell_type": "markdown",
   "source": "### Collection Tasks",
   "id": "6f5496b0686c12c4"
  },
  {
   "metadata": {
    "ExecuteTime": {
     "end_time": "2024-10-21T01:24:21.195086Z",
     "start_time": "2024-10-21T01:24:21.019162Z"
    }
   },
   "cell_type": "code",
   "source": [
    "docs = db.collection(\"Users\").document(user4.uid).collection(\"Tasks\").stream()\n",
    "for doc in docs:\n",
    "    print(f'Document ID: {doc.id}, Data: {doc.to_dict()}')"
   ],
   "id": "75731afc4c3d877c",
   "outputs": [
    {
     "name": "stdout",
     "output_type": "stream",
     "text": [
      "Document ID: almorzar, Data: {'title': 'almorzar', 'due_date': '2024-01-19', 'description': 'This is a test task', 'createdAt': '2024-10-20 19:08:08', 'priority': 'HIGH'}\n",
      "Document ID: desayunar, Data: {'title': 'desayunar', 'due_date': '2024-01-19', 'description': 'This is a test task', 'createdAt': '2024-10-20 18:20:20', 'priority': 'HIGH'}\n"
     ]
    }
   ],
   "execution_count": 172
  },
  {
   "metadata": {},
   "cell_type": "markdown",
   "source": "### Collections Subtasks",
   "id": "2e2f99ba1fe74e20"
  },
  {
   "metadata": {
    "ExecuteTime": {
     "end_time": "2024-10-21T00:34:20.397230Z",
     "start_time": "2024-10-21T00:34:20.289464Z"
    }
   },
   "cell_type": "code",
   "source": [
    "subtasks1 = db.collection(\"Users\").document(user4.uid).collection(\"Tasks\").document(\"desayunar\").collection(\"Subtasks\").stream()\n",
    "for subtask in subtasks1:\n",
    "    print(f'Document ID: {subtask.id}, Data: {subtask.to_dict()}')"
   ],
   "id": "bdafc5d16c8e6b46",
   "outputs": [
    {
     "name": "stdout",
     "output_type": "stream",
     "text": [
      "Document ID: Abrir refri, Data: {'description': 'This is a test subtask', 'createdAt': '2024-10-20 18:21:52', 'subtaskTitle': 'Abrir refri'}\n",
      "Document ID: Comer, Data: {'description': 'This is a test subtask', 'createdAt': '2024-10-20 18:22:04', 'subtaskTitle': 'Comer'}\n",
      "Document ID: Tomar plato, Data: {'description': 'This is a test subtask', 'createdAt': '2024-10-20 18:21:34', 'subtaskTitle': 'Tomar plato'}\n"
     ]
    }
   ],
   "execution_count": 138
  },
  {
   "metadata": {},
   "cell_type": "markdown",
   "source": "# Read a user document in a json format",
   "id": "1e1de83e225a164"
  },
  {
   "metadata": {
    "ExecuteTime": {
     "end_time": "2024-10-21T01:24:55.465707Z",
     "start_time": "2024-10-21T01:24:52.756050Z"
    }
   },
   "cell_type": "code",
   "source": [
    "\n",
    "import json\n",
    "\n",
    "\n",
    "def fetch_subcollections(document_ref):\n",
    "    \"\"\"\n",
    "    Recursively fetch subcollections for a given Firestore document reference.\n",
    "    \"\"\"\n",
    "    data = {}\n",
    "    \n",
    "    # Get the document data\n",
    "    document_data = document_ref.get().to_dict()\n",
    "    \n",
    "    # Add the document data to the result\n",
    "    if document_data:\n",
    "        data['data'] = document_data\n",
    "    \n",
    "    # Get subcollections\n",
    "    subcollections = document_ref.collections()\n",
    "    \n",
    "    for subcollection in subcollections:\n",
    "        # Recursively call this function for each subcollection\n",
    "        subcollection_data = []\n",
    "        for doc in subcollection.stream():\n",
    "            subcollection_data.append(fetch_subcollections(doc.reference))\n",
    "        data[subcollection.id] = subcollection_data\n",
    "    \n",
    "    return data\n",
    "\n",
    "def print_user_info(user_id):\n",
    "    \"\"\"\n",
    "    Fetch all user information from Firestore, including subcollections, and print it to the screen.\n",
    "    \"\"\"\n",
    "    # Reference to the user's document\n",
    "    user_ref = db.collection(\"Users\").document(user_id)\n",
    "    \n",
    "    # Fetch user document and its subcollections\n",
    "    user_data = fetch_subcollections(user_ref)\n",
    "    \n",
    "    # Print the result as a formatted JSON string\n",
    "    print(json.dumps(user_data, indent=4))\n",
    "    \n",
    "# Example usage:\n",
    "user_id = user4.uid # The user ID of the user you want to print\n",
    "\n",
    "# Print the user information to the screen\n",
    "print_user_info(user_id)\n",
    "\n"
   ],
   "id": "b22379e55cd95ce5",
   "outputs": [
    {
     "name": "stdout",
     "output_type": "stream",
     "text": [
      "{\n",
      "    \"data\": {\n",
      "        \"name\": \"4\",\n",
      "        \"uid\": \"GGh07R3wtdets9UYiHmRTxuGHRJ3\",\n",
      "        \"photoUrl\": \"https://storage.googleapis.com/ingebot-5c0de.appspot.com/user_profile_pictures/GGh07R3wtdets9UYiHmRTxuGHRJ3/aldo.jpg\",\n",
      "        \"createdAt\": \"2024-10-20 18:09:27\",\n",
      "        \"institution_email\": \"7@example.com\",\n",
      "        \"control_number\": \"22090747\"\n",
      "    },\n",
      "    \"Tasks\": [\n",
      "        {\n",
      "            \"data\": {\n",
      "                \"title\": \"almorzar\",\n",
      "                \"due_date\": \"2024-01-19\",\n",
      "                \"description\": \"This is a test task\",\n",
      "                \"createdAt\": \"2024-10-20 19:08:08\",\n",
      "                \"priority\": \"HIGH\"\n",
      "            },\n",
      "            \"Subtasks\": [\n",
      "                {\n",
      "                    \"data\": {\n",
      "                        \"description\": \"This is a test subtask\",\n",
      "                        \"createdAt\": \"2024-10-20 19:10:09\",\n",
      "                        \"subtaskTitle\": \"Ir al ba\\u00f1o\"\n",
      "                    }\n",
      "                },\n",
      "                {\n",
      "                    \"data\": {\n",
      "                        \"description\": \"This is a test subtask\",\n",
      "                        \"createdAt\": \"2024-10-20 19:09:53\",\n",
      "                        \"subtaskTitle\": \"Tomar agua\"\n",
      "                    }\n",
      "                }\n",
      "            ]\n",
      "        },\n",
      "        {\n",
      "            \"data\": {\n",
      "                \"title\": \"desayunar\",\n",
      "                \"due_date\": \"2024-01-19\",\n",
      "                \"description\": \"This is a test task\",\n",
      "                \"createdAt\": \"2024-10-20 18:20:20\",\n",
      "                \"priority\": \"HIGH\"\n",
      "            },\n",
      "            \"Subtasks\": [\n",
      "                {\n",
      "                    \"data\": {\n",
      "                        \"description\": \"This is a test subtask\",\n",
      "                        \"createdAt\": \"2024-10-20 18:21:52\",\n",
      "                        \"subtaskTitle\": \"Abrir refri\"\n",
      "                    }\n",
      "                },\n",
      "                {\n",
      "                    \"data\": {\n",
      "                        \"description\": \"This is a test subtask\",\n",
      "                        \"createdAt\": \"2024-10-20 18:22:04\",\n",
      "                        \"subtaskTitle\": \"Comer\"\n",
      "                    }\n",
      "                },\n",
      "                {\n",
      "                    \"data\": {\n",
      "                        \"description\": \"This is a test subtask\",\n",
      "                        \"createdAt\": \"2024-10-20 18:21:34\",\n",
      "                        \"subtaskTitle\": \"Tomar plato\"\n",
      "                    }\n",
      "                }\n",
      "            ]\n",
      "        }\n",
      "    ]\n",
      "}\n"
     ]
    }
   ],
   "execution_count": 173
  },
  {
   "metadata": {},
   "cell_type": "markdown",
   "source": "# Read subtasks for a particular task in a json format",
   "id": "21ec1b9d0696e3cc"
  },
  {
   "metadata": {
    "ExecuteTime": {
     "end_time": "2024-10-21T01:23:06.349177Z",
     "start_time": "2024-10-21T01:23:06.223447Z"
    }
   },
   "cell_type": "code",
   "source": [
    "\n",
    "import json\n",
    "\n",
    "\n",
    "def fetch_subtasks(user_id, task_name):\n",
    "    \"\"\"\n",
    "    Fetch all subtasks for a given user and task, and return the data as a dictionary.\n",
    "    \"\"\"\n",
    "    subtasks_data = []\n",
    "\n",
    "    # Reference to the subtasks collection\n",
    "    subtasks_ref = db.collection(\"Users\").document(user_id).collection(\"Tasks\").document(task_name).collection(\"Subtasks\")\n",
    "\n",
    "    # Stream through all subtasks\n",
    "    subtasks1 = subtasks_ref.stream()\n",
    "    \n",
    "    for subtask in subtasks1:\n",
    "        # Append each subtask's data to the list\n",
    "        subtasks_data.append({\n",
    "           \n",
    "            \"data\": subtask.to_dict()\n",
    "        })\n",
    "    \n",
    "    return subtasks_data\n",
    "\n",
    "def print_subtasks_in_json(user_id, task_name):\n",
    "    \"\"\"\n",
    "    Fetch all subtasks for a user and task, and print them in JSON format.\n",
    "    \"\"\"\n",
    "    # Fetch the subtasks\n",
    "    subtasks = fetch_subtasks(user_id, task_name)\n",
    "    \n",
    "    # Print the subtasks in a formatted JSON string\n",
    "    print(f'Subtasks for task \"{task_name}\" under the Uid: {user_id}')\n",
    "    print(json.dumps(subtasks, indent=4))\n",
    "\n",
    "# Example usage:\n",
    "user_id = user4.uid  # The user ID of the user whose subtasks you want to fetch\n",
    "task_name = 'desayunar'  # The task name for which you want to fetch subtasks\n",
    "\n",
    "# Print the subtasks in JSON format\n",
    "print_subtasks_in_json(user_id, task_name)\n",
    "\n"
   ],
   "id": "346873bb089f59ad",
   "outputs": [
    {
     "name": "stdout",
     "output_type": "stream",
     "text": [
      "Subtasks for task \"desayunar\" under the Uid: GGh07R3wtdets9UYiHmRTxuGHRJ3\n",
      "[\n",
      "    {\n",
      "        \"data\": {\n",
      "            \"description\": \"This is a test subtask\",\n",
      "            \"createdAt\": \"2024-10-20 18:21:52\",\n",
      "            \"subtaskTitle\": \"Abrir refri\"\n",
      "        }\n",
      "    },\n",
      "    {\n",
      "        \"data\": {\n",
      "            \"description\": \"This is a test subtask\",\n",
      "            \"createdAt\": \"2024-10-20 18:22:04\",\n",
      "            \"subtaskTitle\": \"Comer\"\n",
      "        }\n",
      "    },\n",
      "    {\n",
      "        \"data\": {\n",
      "            \"description\": \"This is a test subtask\",\n",
      "            \"createdAt\": \"2024-10-20 18:21:34\",\n",
      "            \"subtaskTitle\": \"Tomar plato\"\n",
      "        }\n",
      "    }\n",
      "]\n"
     ]
    }
   ],
   "execution_count": 171
  },
  {
   "metadata": {},
   "cell_type": "markdown",
   "source": [
    "## Deleting user's information\n",
    "- DELETE A SUBTASK\n"
   ],
   "id": "8834ef53e93f5bdd"
  }
 ],
 "metadata": {
  "kernelspec": {
   "display_name": "Python 3",
   "language": "python",
   "name": "python3"
  },
  "language_info": {
   "codemirror_mode": {
    "name": "ipython",
    "version": 2
   },
   "file_extension": ".py",
   "mimetype": "text/x-python",
   "name": "python",
   "nbconvert_exporter": "python",
   "pygments_lexer": "ipython2",
   "version": "2.7.6"
  }
 },
 "nbformat": 4,
 "nbformat_minor": 5
}
